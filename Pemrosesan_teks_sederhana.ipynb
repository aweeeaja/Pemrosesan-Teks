{
  "nbformat": 4,
  "nbformat_minor": 0,
  "metadata": {
    "colab": {
      "provenance": [],
      "authorship_tag": "ABX9TyOk/p3XpksZb3SlitRM8ZUh",
      "include_colab_link": true
    },
    "kernelspec": {
      "name": "python3",
      "display_name": "Python 3"
    },
    "language_info": {
      "name": "python"
    }
  },
  "cells": [
    {
      "cell_type": "markdown",
      "metadata": {
        "id": "view-in-github",
        "colab_type": "text"
      },
      "source": [
        "<a href=\"https://colab.research.google.com/github/aweeeaja/Pemrosesan-Teks/blob/main/Pemrosesan_teks_sederhana.ipynb\" target=\"_parent\"><img src=\"https://colab.research.google.com/assets/colab-badge.svg\" alt=\"Open In Colab\"/></a>"
      ]
    },
    {
      "cell_type": "code",
      "source": [
        "import re\n",
        "\n",
        "word = 'supercalifragilisticexpial'"
      ],
      "metadata": {
        "id": "O7aV19MK55Nw"
      },
      "execution_count": null,
      "outputs": []
    },
    {
      "cell_type": "code",
      "source": [
        "raw = 'Sopir Xpander yang tabrak Porsche berinisial JS (42) ditetapkan tersangka dan langsung ditahan.'\n",
        "raw.split()"
      ],
      "metadata": {
        "colab": {
          "base_uri": "https://localhost:8080/"
        },
        "id": "cmYaNzlf6ITN",
        "outputId": "ec36d92e-4ef8-497a-e1f5-896dd6ba3521"
      },
      "execution_count": null,
      "outputs": [
        {
          "output_type": "execute_result",
          "data": {
            "text/plain": [
              "['Sopir',\n",
              " 'Xpander',\n",
              " 'yang',\n",
              " 'tabrak',\n",
              " 'Porsche',\n",
              " 'berinisial',\n",
              " 'JS',\n",
              " '(42)',\n",
              " 'ditetapkan',\n",
              " 'tersangka',\n",
              " 'dan',\n",
              " 'langsung',\n",
              " 'ditahan.']"
            ]
          },
          "metadata": {},
          "execution_count": 3
        }
      ]
    },
    {
      "cell_type": "code",
      "source": [
        "re.split(r'',raw)"
      ],
      "metadata": {
        "colab": {
          "base_uri": "https://localhost:8080/"
        },
        "id": "C-QQA3PV6uxY",
        "outputId": "72fa4947-58bf-4b43-c01b-408882e447ae"
      },
      "execution_count": null,
      "outputs": [
        {
          "output_type": "execute_result",
          "data": {
            "text/plain": [
              "['',\n",
              " 'S',\n",
              " 'o',\n",
              " 'p',\n",
              " 'i',\n",
              " 'r',\n",
              " ' ',\n",
              " 'X',\n",
              " 'p',\n",
              " 'a',\n",
              " 'n',\n",
              " 'd',\n",
              " 'e',\n",
              " 'r',\n",
              " ' ',\n",
              " 'y',\n",
              " 'a',\n",
              " 'n',\n",
              " 'g',\n",
              " ' ',\n",
              " 't',\n",
              " 'a',\n",
              " 'b',\n",
              " 'r',\n",
              " 'a',\n",
              " 'k',\n",
              " ' ',\n",
              " 'P',\n",
              " 'o',\n",
              " 'r',\n",
              " 's',\n",
              " 'c',\n",
              " 'h',\n",
              " 'e',\n",
              " ' ',\n",
              " 'b',\n",
              " 'e',\n",
              " 'r',\n",
              " 'i',\n",
              " 'n',\n",
              " 'i',\n",
              " 's',\n",
              " 'i',\n",
              " 'a',\n",
              " 'l',\n",
              " ' ',\n",
              " 'J',\n",
              " 'S',\n",
              " ' ',\n",
              " '(',\n",
              " '4',\n",
              " '2',\n",
              " ')',\n",
              " ' ',\n",
              " 'd',\n",
              " 'i',\n",
              " 't',\n",
              " 'e',\n",
              " 't',\n",
              " 'a',\n",
              " 'p',\n",
              " 'k',\n",
              " 'a',\n",
              " 'n',\n",
              " ' ',\n",
              " 't',\n",
              " 'e',\n",
              " 'r',\n",
              " 's',\n",
              " 'a',\n",
              " 'n',\n",
              " 'g',\n",
              " 'k',\n",
              " 'a',\n",
              " ' ',\n",
              " 'd',\n",
              " 'a',\n",
              " 'n',\n",
              " ' ',\n",
              " 'l',\n",
              " 'a',\n",
              " 'n',\n",
              " 'g',\n",
              " 's',\n",
              " 'u',\n",
              " 'n',\n",
              " 'g',\n",
              " ' ',\n",
              " 'd',\n",
              " 'i',\n",
              " 't',\n",
              " 'a',\n",
              " 'h',\n",
              " 'a',\n",
              " 'n',\n",
              " '.',\n",
              " '']"
            ]
          },
          "metadata": {},
          "execution_count": 4
        }
      ]
    },
    {
      "cell_type": "code",
      "source": [
        "re.split(r'\\W+', raw)"
      ],
      "metadata": {
        "colab": {
          "base_uri": "https://localhost:8080/"
        },
        "id": "oGSKbeu362MC",
        "outputId": "b9fb0968-bc3b-4068-9e67-0e30730ced2a"
      },
      "execution_count": null,
      "outputs": [
        {
          "output_type": "execute_result",
          "data": {
            "text/plain": [
              "['Sopir',\n",
              " 'Xpander',\n",
              " 'yang',\n",
              " 'tabrak',\n",
              " 'Porsche',\n",
              " 'berinisial',\n",
              " 'JS',\n",
              " '42',\n",
              " 'ditetapkan',\n",
              " 'tersangka',\n",
              " 'dan',\n",
              " 'langsung',\n",
              " 'ditahan',\n",
              " '']"
            ]
          },
          "metadata": {},
          "execution_count": 5
        }
      ]
    },
    {
      "cell_type": "code",
      "source": [
        "re.findall(r'\\w+|\\S\\W*', raw)"
      ],
      "metadata": {
        "colab": {
          "base_uri": "https://localhost:8080/"
        },
        "id": "5ZkiW3_n7cIR",
        "outputId": "182cf1b2-a3d1-4179-d180-0f119121a67e"
      },
      "execution_count": null,
      "outputs": [
        {
          "output_type": "execute_result",
          "data": {
            "text/plain": [
              "['Sopir',\n",
              " 'Xpander',\n",
              " 'yang',\n",
              " 'tabrak',\n",
              " 'Porsche',\n",
              " 'berinisial',\n",
              " 'JS',\n",
              " '(',\n",
              " '42',\n",
              " ') ',\n",
              " 'ditetapkan',\n",
              " 'tersangka',\n",
              " 'dan',\n",
              " 'langsung',\n",
              " 'ditahan',\n",
              " '.']"
            ]
          },
          "metadata": {},
          "execution_count": 6
        }
      ]
    },
    {
      "cell_type": "code",
      "source": [
        "lower = raw.lower()\n",
        "print (lower)"
      ],
      "metadata": {
        "colab": {
          "base_uri": "https://localhost:8080/"
        },
        "id": "BlzIbLf37nWZ",
        "outputId": "c1bf3411-bff8-4d53-a4d0-062de22cd28a"
      },
      "execution_count": null,
      "outputs": [
        {
          "output_type": "stream",
          "name": "stdout",
          "text": [
            "sopir xpander yang tabrak porsche berinisial js (42) ditetapkan tersangka dan langsung ditahan.\n"
          ]
        }
      ]
    },
    {
      "cell_type": "code",
      "source": [
        "raw.find('adalah')"
      ],
      "metadata": {
        "colab": {
          "base_uri": "https://localhost:8080/"
        },
        "id": "S4bwrOdv8R-9",
        "outputId": "d39a853f-12f7-46a1-fbe7-ecc13b46550d"
      },
      "execution_count": null,
      "outputs": [
        {
          "output_type": "execute_result",
          "data": {
            "text/plain": [
              "-1"
            ]
          },
          "metadata": {},
          "execution_count": 8
        }
      ]
    },
    {
      "cell_type": "code",
      "source": [
        "raw.splitlines()"
      ],
      "metadata": {
        "colab": {
          "base_uri": "https://localhost:8080/"
        },
        "id": "5VGiZaUS8ptg",
        "outputId": "875416ff-fe78-448e-c82d-fcc3b9ac2694"
      },
      "execution_count": null,
      "outputs": [
        {
          "output_type": "execute_result",
          "data": {
            "text/plain": [
              "['Sopir Xpander yang tabrak Porsche berinisial JS (42) ditetapkan tersangka dan langsung ditahan.']"
            ]
          },
          "metadata": {},
          "execution_count": 9
        }
      ]
    },
    {
      "cell_type": "code",
      "source": [
        "raw.title()"
      ],
      "metadata": {
        "colab": {
          "base_uri": "https://localhost:8080/",
          "height": 36
        },
        "id": "aTeXVFCsAY6Q",
        "outputId": "1a5e413b-343e-4949-87e7-c07dadba441d"
      },
      "execution_count": null,
      "outputs": [
        {
          "output_type": "execute_result",
          "data": {
            "text/plain": [
              "'Sopir Xpander Yang Tabrak Porsche Berinisial Js (42) Ditetapkan Tersangka Dan Langsung Ditahan.'"
            ],
            "application/vnd.google.colaboratory.intrinsic+json": {
              "type": "string"
            }
          },
          "metadata": {},
          "execution_count": 10
        }
      ]
    },
    {
      "cell_type": "code",
      "source": [
        "raw.strip()"
      ],
      "metadata": {
        "id": "xMB4rF79Be7L",
        "colab": {
          "base_uri": "https://localhost:8080/",
          "height": 36
        },
        "outputId": "aec29536-daf3-4bf1-cc3e-2964eb999354"
      },
      "execution_count": null,
      "outputs": [
        {
          "output_type": "execute_result",
          "data": {
            "text/plain": [
              "'Sopir Xpander yang tabrak Porsche berinisial JS (42) ditetapkan tersangka dan langsung ditahan.'"
            ],
            "application/vnd.google.colaboratory.intrinsic+json": {
              "type": "string"
            }
          },
          "metadata": {},
          "execution_count": 11
        }
      ]
    },
    {
      "cell_type": "code",
      "source": [
        "raw.replace('Xpander', 'serena')"
      ],
      "metadata": {
        "colab": {
          "base_uri": "https://localhost:8080/",
          "height": 36
        },
        "id": "17SFoOLtWk4T",
        "outputId": "e3fe8349-c379-4c93-c311-09ce3bceb1b6"
      },
      "execution_count": null,
      "outputs": [
        {
          "output_type": "execute_result",
          "data": {
            "text/plain": [
              "'Sopir serena yang tabrak Porsche berinisial JS (42) ditetapkan tersangka dan langsung ditahan.'"
            ],
            "application/vnd.google.colaboratory.intrinsic+json": {
              "type": "string"
            }
          },
          "metadata": {},
          "execution_count": 13
        }
      ]
    },
    {
      "cell_type": "code",
      "source": [],
      "metadata": {
        "id": "b3OLdj0PW1Xt"
      },
      "execution_count": null,
      "outputs": []
    }
  ]
}